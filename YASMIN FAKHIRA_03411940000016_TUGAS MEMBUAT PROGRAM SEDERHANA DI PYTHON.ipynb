{
 "cells": [
  {
   "cell_type": "code",
   "execution_count": 1,
   "metadata": {},
   "outputs": [
    {
     "name": "stdout",
     "output_type": "stream",
     "text": [
      ">>>>>>>>>> WARUNG SEDERHANA PAK KUMIS <<<<<<<<<<\n",
      "\n",
      "Nama konsumen: YASMIN\n",
      "Nama makanan : BAKSO\n",
      "Harga makanan : 10000\n",
      "Jumlah makanan yang dipesan : 2\n",
      "\n",
      "Nama minuman : ES TEH\n",
      "Harga minuman : 4000\n",
      "Jumlah minuman yang dipesan : 2\n",
      "\n",
      "Pesanan tambahan : KRUPUK\n",
      "Harga pesanan tambahan : 1000\n",
      "Jumlah pesanan tambahan : 2\n",
      "\n",
      "TOTAL : Rp. 30000\n",
      "BAYAR : 50000\n",
      "\n",
      "KEMBALI : Rp. 20000\n",
      "\n",
      ">>>>>>>>>>>>>>>>> TERIMA KASIH <<<<<<<<<<<<<<<<<\n"
     ]
    }
   ],
   "source": [
    "# Membuat program sederhana kasir warung \n",
    "\n",
    "print('>>>>>>>>>> WARUNG SEDERHANA PAK KUMIS <<<<<<<<<<')\n",
    "print()\n",
    "Nama = str(input('Nama konsumen: '))\n",
    "Nomor1 = str(input('Nama makanan : '))\n",
    "Nomor2 = int(input('Harga makanan : '))\n",
    "Nomor3 = int(input('Jumlah makanan yang dipesan : '))\n",
    "print()\n",
    "Nomor4 = str(input('Nama minuman : '))\n",
    "Nomor5 = int(input('Harga minuman : '))\n",
    "Nomor6 = int(input('Jumlah minuman yang dipesan : '))\n",
    "print()\n",
    "Nomor7 = str(input('Pesanan tambahan : '))\n",
    "Nomor8 = int(input('Harga pesanan tambahan : '))\n",
    "Nomor9 = int(input('Jumlah pesanan tambahan : '))\n",
    "print()\n",
    "TOTAL = (Nomor2*Nomor3+Nomor5*Nomor6+Nomor8*Nomor9)\n",
    "print('TOTAL : Rp.', TOTAL)\n",
    "Nomor10 = int(input('BAYAR : '))\n",
    "print()\n",
    "KEMBALI = (Nomor10-(TOTAL))\n",
    "print('KEMBALI : Rp.', KEMBALI)\n",
    "print()\n",
    "print('>>>>>>>>>>>>>>>>> TERIMA KASIH <<<<<<<<<<<<<<<<<')"
   ]
  },
  {
   "cell_type": "code",
   "execution_count": null,
   "metadata": {},
   "outputs": [],
   "source": []
  }
 ],
 "metadata": {
  "kernelspec": {
   "display_name": "Python 3",
   "language": "python",
   "name": "python3"
  },
  "language_info": {
   "codemirror_mode": {
    "name": "ipython",
    "version": 3
   },
   "file_extension": ".py",
   "mimetype": "text/x-python",
   "name": "python",
   "nbconvert_exporter": "python",
   "pygments_lexer": "ipython3",
   "version": "3.7.4"
  }
 },
 "nbformat": 4,
 "nbformat_minor": 2
}
